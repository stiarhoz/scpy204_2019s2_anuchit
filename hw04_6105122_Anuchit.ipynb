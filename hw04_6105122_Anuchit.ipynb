{
 "cells": [
  {
   "cell_type": "code",
   "execution_count": 11,
   "metadata": {},
   "outputs": [],
   "source": [
    "from astroquery.sdss import SDSS\n",
    "import numpy as np\n",
    "import pandas as pd\n",
    "import matplotlib.pyplot as plt"
   ]
  },
  {
   "cell_type": "code",
   "execution_count": 61,
   "metadata": {},
   "outputs": [],
   "source": [
    "query = \"select s.z, s.zErr, p.petroMag_g, p.petroMagErr_g from  photoObjAll p JOIN specObjAll s ON s.bestObjID = p.ObjID where s.zWarning = 0 and s.z between 0.3 and 0.4 and s.class = 'qso'\"\n",
    "data = SDSS.query_sql(query)"
   ]
  },
  {
   "cell_type": "code",
   "execution_count": 62,
   "metadata": {},
   "outputs": [
    {
     "data": {
      "text/html": [
       "<div>\n",
       "<style scoped>\n",
       "    .dataframe tbody tr th:only-of-type {\n",
       "        vertical-align: middle;\n",
       "    }\n",
       "\n",
       "    .dataframe tbody tr th {\n",
       "        vertical-align: top;\n",
       "    }\n",
       "\n",
       "    .dataframe thead th {\n",
       "        text-align: right;\n",
       "    }\n",
       "</style>\n",
       "<table border=\"1\" class=\"dataframe\">\n",
       "  <thead>\n",
       "    <tr style=\"text-align: right;\">\n",
       "      <th></th>\n",
       "      <th>z</th>\n",
       "      <th>zErr</th>\n",
       "      <th>petroMag_g</th>\n",
       "      <th>petroMagErr_g</th>\n",
       "    </tr>\n",
       "  </thead>\n",
       "  <tbody>\n",
       "    <tr>\n",
       "      <th>0</th>\n",
       "      <td>0.351202</td>\n",
       "      <td>0.000038</td>\n",
       "      <td>19.22015</td>\n",
       "      <td>0.017973</td>\n",
       "    </tr>\n",
       "    <tr>\n",
       "      <th>1</th>\n",
       "      <td>0.395745</td>\n",
       "      <td>0.000119</td>\n",
       "      <td>18.34281</td>\n",
       "      <td>0.009424</td>\n",
       "    </tr>\n",
       "    <tr>\n",
       "      <th>2</th>\n",
       "      <td>0.300351</td>\n",
       "      <td>0.000057</td>\n",
       "      <td>19.55023</td>\n",
       "      <td>0.029510</td>\n",
       "    </tr>\n",
       "    <tr>\n",
       "      <th>3</th>\n",
       "      <td>0.316665</td>\n",
       "      <td>0.000043</td>\n",
       "      <td>20.63574</td>\n",
       "      <td>0.076419</td>\n",
       "    </tr>\n",
       "    <tr>\n",
       "      <th>4</th>\n",
       "      <td>0.349751</td>\n",
       "      <td>0.000026</td>\n",
       "      <td>20.69368</td>\n",
       "      <td>0.060736</td>\n",
       "    </tr>\n",
       "  </tbody>\n",
       "</table>\n",
       "</div>"
      ],
      "text/plain": [
       "          z      zErr  petroMag_g  petroMagErr_g\n",
       "0  0.351202  0.000038    19.22015       0.017973\n",
       "1  0.395745  0.000119    18.34281       0.009424\n",
       "2  0.300351  0.000057    19.55023       0.029510\n",
       "3  0.316665  0.000043    20.63574       0.076419\n",
       "4  0.349751  0.000026    20.69368       0.060736"
      ]
     },
     "execution_count": 62,
     "metadata": {},
     "output_type": "execute_result"
    }
   ],
   "source": [
    "df = pd.DataFrame(np.array(data))\n",
    "df.head()"
   ]
  },
  {
   "cell_type": "code",
   "execution_count": 99,
   "metadata": {},
   "outputs": [],
   "source": [
    "#df.sort_values(\"zErr\")"
   ]
  },
  {
   "cell_type": "code",
   "execution_count": 35,
   "metadata": {},
   "outputs": [],
   "source": [
    "#plt.plot(df.z , df.petroMag_g,\".\")"
   ]
  },
  {
   "cell_type": "markdown",
   "metadata": {},
   "source": [
    "delete -9999 petroMag"
   ]
  },
  {
   "cell_type": "code",
   "execution_count": 100,
   "metadata": {},
   "outputs": [],
   "source": [
    "usedata = df.loc[(df.petroMag_g > 0) & (df.petroMagErr_g < 30) & (df.zErr > 0 )]\n",
    "#usedata"
   ]
  },
  {
   "cell_type": "code",
   "execution_count": 101,
   "metadata": {},
   "outputs": [
    {
     "data": {
      "text/plain": [
       "Text(0.5, 1.0, 'graph between Z and petroMag_g')"
      ]
     },
     "execution_count": 101,
     "metadata": {},
     "output_type": "execute_result"
    },
    {
     "data": {
      "image/png": "[encoded data removed]",
      "text/plain": [
       "<Figure size 432x288 with 1 Axes>"
      ]
     },
     "metadata": {
      "needs_background": "light"
     },
     "output_type": "display_data"
    }
   ],
   "source": [
    "#plt.plot(usedata.z , usedata.petroMag_g,\".\")\n",
    "plt.plot(usedata.z ,usedata.petroMag_g ,'.')\n",
    "plt.xlim(0.298 , 0.403)\n",
    "plt.ylim(10 , 30)\n",
    "plt.xlabel(\"z\")\n",
    "plt.ylabel(\"petroMag_g\")\n",
    "plt.title(\"graph between Z and petroMag_g\")"
   ]
  },
  {
   "cell_type": "code",
   "execution_count": null,
   "metadata": {},
   "outputs": [],
   "source": []
  },
  {
   "cell_type": "code",
   "execution_count": null,
   "metadata": {},
   "outputs": [],
   "source": []
  }
 ],
 "metadata": {
  "kernelspec": {
   "display_name": "Python 3",
   "language": "python",
   "name": "python3"
  },
  "language_info": {
   "codemirror_mode": {
    "name": "ipython",
    "version": 3
   },
   "file_extension": ".py",
   "mimetype": "text/x-python",
   "name": "python",
   "nbconvert_exporter": "python",
   "pygments_lexer": "ipython3",
   "version": "3.7.3"
  }
 },
 "nbformat": 4,
 "nbformat_minor": 4
}
